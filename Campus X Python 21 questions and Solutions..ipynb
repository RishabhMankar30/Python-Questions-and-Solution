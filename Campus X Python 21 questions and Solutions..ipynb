{
 "cells": [
  {
   "cell_type": "markdown",
   "id": "c38050c2",
   "metadata": {},
   "source": [
    "# 1) Write a code to find the minimum among three given numbers."
   ]
  },
  {
   "cell_type": "code",
   "execution_count": 17,
   "id": "28481075",
   "metadata": {},
   "outputs": [
    {
     "name": "stdout",
     "output_type": "stream",
     "text": [
      "Enter a 3 numbers12,55,48\n",
      "The smallest number is:-12\n"
     ]
    }
   ],
   "source": [
    "a=input(\"Enter a 3 numbers\").split(\",\")\n",
    "minimum=a[0]\n",
    "for i in range(len(a)):\n",
    "    if a[i]<minimum:\n",
    "        minimum=a[i]\n",
    "print(\"The smallest number is:-{}\".format(minimum))\n",
    "\n",
    "        "
   ]
  },
  {
   "cell_type": "markdown",
   "id": "b3162213",
   "metadata": {},
   "source": [
    "### method 2"
   ]
  },
  {
   "cell_type": "code",
   "execution_count": 18,
   "id": "9aae04db",
   "metadata": {},
   "outputs": [
    {
     "name": "stdout",
     "output_type": "stream",
     "text": [
      "Enter a 3 numbers55,65,5\n",
      "The smallest number:5\n"
     ]
    }
   ],
   "source": [
    "a=input(\"Enter a 3 numbers\").split(\",\")\n",
    "small=min(a)\n",
    "print(\"The smallest number:{}\".format(small))"
   ]
  },
  {
   "cell_type": "markdown",
   "id": "2ad2677e",
   "metadata": {},
   "source": [
    "# 2) Write a code to check whether a given number is a palindrome"
   ]
  },
  {
   "cell_type": "code",
   "execution_count": 4,
   "id": "9de119e4",
   "metadata": {},
   "outputs": [
    {
     "name": "stdout",
     "output_type": "stream",
     "text": [
      "Enter a number to check it is Palindrome or not458\n",
      "Oh!, The number 458 is not a palindrome number\n"
     ]
    }
   ],
   "source": [
    "num=input(\"Enter a number to check it is Palindrome or not\")\n",
    "rev_num=num[-1::-1]\n",
    "if rev_num==num:\n",
    "    print(\"The given number {} is a Palindrome\".format(num))\n",
    "else:\n",
    "    print(\"Oh!, The number {} is not a palindrome number\".format(num))"
   ]
  },
  {
   "cell_type": "markdown",
   "id": "5c16d8d2",
   "metadata": {},
   "source": [
    "##### 3)Write a code to find the sum of numbers divisible by 4.The code must allow the user to accept a number and add it to the sum if it is divisible by 4. It should continue accepting numbers as long as the user wants to provide an input and should display the final sum.\n"
   ]
  },
  {
   "cell_type": "code",
   "execution_count": 78,
   "id": "0b6d6e81",
   "metadata": {},
   "outputs": [
    {
     "name": "stdout",
     "output_type": "stream",
     "text": [
      "Enter the number4\n",
      "The sum of all successive Entered number is: 4\n",
      "4\n",
      "Enter the number4\n",
      "The sum of all successive Entered number is: 8\n",
      "8\n",
      "Enter the number12\n",
      "The sum of all successive Entered number is: 20\n",
      "20\n",
      "Enter the number20\n",
      "The sum of all successive Entered number is: 40\n",
      "40\n",
      "Enter the number0\n",
      "The sum of all successive Entered number is: 40\n",
      "40\n"
     ]
    }
   ],
   "source": [
    "sum=0\n",
    "while True:\n",
    "    num=int(input(\"Enter the number\"))\n",
    "    if num%4==0:\n",
    "        sum=sum+num\n",
    "        print(\"The sum of all successive Entered number is: {}\".format(sum))\n",
    "        print(sum)\n",
    "    if num==0:\n",
    "        break\n",
    "        "
   ]
  },
  {
   "cell_type": "markdown",
   "id": "72daa05d",
   "metadata": {},
   "source": [
    "##### 4) A three digit number is said to be an “Armstrong number” if the sum of the third power of its individual digits is equal to the number itself.Write a program to check whether a number is armstrong or not. \n"
   ]
  },
  {
   "cell_type": "code",
   "execution_count": 89,
   "id": "5a669284",
   "metadata": {},
   "outputs": [
    {
     "name": "stdout",
     "output_type": "stream",
     "text": [
      "Enter a number to check Armstrong or Not12\n",
      "Oh!-->The Number is not an Armstrong Number\n"
     ]
    }
   ],
   "source": [
    "num=input(\"Enter a number to check Armstrong or Not\")\n",
    "sum=0\n",
    "for i in num:\n",
    "    sum=sum+int(i)**3\n",
    "if int(num)==sum:\n",
    "    print(\"The number is a an Armstrong number\")\n",
    "else:\n",
    "    print(\"Oh!-->The Number is not an Armstrong Number\")"
   ]
  },
  {
   "cell_type": "markdown",
   "id": "02b0b8c1",
   "metadata": {},
   "source": [
    "#### 5) JIT University offering degree courses to students has decided to provide scholarship based on the following details:\n"
   ]
  },
  {
   "cell_type": "code",
   "execution_count": 5,
   "id": "baac5370",
   "metadata": {},
   "outputs": [
    {
     "name": "stdout",
     "output_type": "stream",
     "text": [
      "JIT Student name is: Rishabh\n",
      "The rishabh branch is:engineering\n",
      "The engineering fees is:150000\n",
      "rishabh has scored:89\n",
      "rishabh has opted for--> 50% schlorship\n",
      "Congrats rishabh now you have to pay just 22500.0 amount after schlorship\n"
     ]
    }
   ],
   "source": [
    "student_name=input(\"JIT Student name is: \").lower()\n",
    "branch=input(\"The {} branch is:\".format(student_name)).lower()\n",
    "course_fees=int(input(\"The {} fees is:\".format(branch)))\n",
    "score=int(input(\"{} has scored:\".format(student_name)))\n",
    "try:\n",
    "    if branch==\"arts\".lower():\n",
    "        if score>=90:\n",
    "            print(\"{} has opted for--> 50% schlorship\")\n",
    "            schlorship_amt=(50/100)*course_fees\n",
    "            final_fees=course_fees-schlorship_amt\n",
    "            print(\"Congrats {} now you have to pay just {} amount after schlorship\".format(student_name,final_fees))\n",
    "        elif score%2!=0:\n",
    "            print(\"{} has opted for--> 5% schlorship\".format(student_name))\n",
    "            schlorship_amt=(5/100)*course_fees\n",
    "            final_fees=course_fees-schlorship_amt\n",
    "            print(\"Ok {} now you have to pay  {} amount after schlorship of 5%\".format(student_name,final_fees))\n",
    "        \n",
    "    else:\n",
    "        if branch==\"engineering\".lower():\n",
    "            if score>85:\n",
    "                print(\"{} has opted for--> 50% schlorship\".format(student_name))\n",
    "                schlorship_amt=(85/100)*course_fees\n",
    "                final_fees=course_fees-schlorship_amt\n",
    "                print(\"Congrats {} now you have to pay just {} amount after schlorship\".format(student_name,final_fees))\n",
    "            \n",
    "            elif score%7==0:\n",
    "                print(\"{} has opted for--> 5% schlorship\".format(student_name))\n",
    "                schlorship_amt=(5/100)*course_fees\n",
    "                final_fees=course_fees-schlorship_amt\n",
    "                print(\"Ok {} now you have to pay just {} amount after schlorship of 5%\".format(student_name,final_fees))\n",
    "        \n",
    "except Exception as e:\n",
    "    print(\"The error is: {}\".format(e))\n",
    "\n",
    "        "
   ]
  },
  {
   "cell_type": "markdown",
   "id": "00f59843",
   "metadata": {},
   "source": [
    "####  6) The flight ticket rates for a round-trip (Mumbai->Dubai) were as follows:\n",
    "      # Rate per Adult: Rs. 37550.0\n",
    "      # Rate per Child: 1/3rd of the rate per adult\n",
    "      # Service Tax: 7% of the ticket amount (including all passengers)\n",
    "      # As it was a holiday season, the airline also offered a 10% discount on the final ticket           cost (after inclusion of the service tax).\n",
    "      # Find and display the total ticket cost for a group which had adults and children.\n"
   ]
  },
  {
   "cell_type": "code",
   "execution_count": 7,
   "id": "2532d72c",
   "metadata": {},
   "outputs": [
    {
     "name": "stdout",
     "output_type": "stream",
     "text": [
      "Enter the number of adults have in a group: 2\n",
      "Enter the number of child have in same group: 1\n",
      "Dear sir/madam you have got 10% discount on total ticket fair \n",
      " Now you just have to pay: 84374.85INR\n"
     ]
    }
   ],
   "source": [
    "adult=int(input(\"Enter the number of adults have in a group: \"))\n",
    "\n",
    "child=int(input(\"Enter the number of child have in same group: \"))\n",
    "\n",
    "ticket_amt = adult*37550+child*(37550/3)\n",
    "\n",
    "service_tax = ticket_amt*0.07\n",
    "\n",
    "total_cost = ticket_amt+service_tax\n",
    "\n",
    "final_ticket_after_discount = (total_cost)-(total_cost*0.1)\n",
    "\n",
    "print(\"Dear sir/madam you have got 10% discount on total ticket fair \\n\", \n",
    "      \"Now you just have to pay: {}INR\".format(final_ticket_after_discount))"
   ]
  },
  {
   "cell_type": "markdown",
   "id": "2590af1b",
   "metadata": {},
   "source": [
    "#### 7)Write a python program that displays a message as follows for a given number:\n",
    "    If it is a multiple of three, display \"Zip\"\n",
    "    If it is a multiple of five, display \"Zap\".\n",
    "    If it is a multiple of both three and five, display \"Zoom\".\n",
    "    If it does not satisfy any of the above given conditions, display \"Invalid\".\n"
   ]
  },
  {
   "cell_type": "code",
   "execution_count": 26,
   "id": "ea01ae62",
   "metadata": {},
   "outputs": [
    {
     "name": "stdout",
     "output_type": "stream",
     "text": [
      "Enter the any number85\n",
      "Zap\n"
     ]
    }
   ],
   "source": [
    "num=int(input(\"Enter the any number\"))\n",
    "if num%3==0:\n",
    "    print(\"Zip\")\n",
    "elif num%5==0:\n",
    "    print(\"Zap\")\n",
    "elif num%3==0 and num%5==0:\n",
    "    print(\"Zoom\")\n",
    "else:\n",
    "    print(\"Invalid\")\n",
    "    \n",
    "    "
   ]
  },
  {
   "cell_type": "markdown",
   "id": "c72f7305",
   "metadata": {},
   "source": [
    "#### 8) A teacher in a school wants to find and display the grade of a student based on his/her percentage score. The criterion for grades is as given below:\n"
   ]
  },
  {
   "cell_type": "code",
   "execution_count": 35,
   "id": "bc6d22bd",
   "metadata": {},
   "outputs": [
    {
     "name": "stdout",
     "output_type": "stream",
     "text": [
      "Enter the score% of a student70\n",
      "Grade:C\n"
     ]
    }
   ],
   "source": [
    "score=int(input(\"Enter the score% of a student\"))\n",
    "if score>=80 and score<=100:\n",
    "    print(\"Grade:A\")\n",
    "elif score>=73 and score<=79:\n",
    "    print(\"Grade:B\")\n",
    "elif score>=65 and score<=72:\n",
    "    print(\"Grade:C\")\n",
    "elif score>=0 and score<=64:\n",
    "    print(\"Grade:D\")\n",
    "else:\n",
    "    print(\"Z\")"
   ]
  },
  {
   "cell_type": "markdown",
   "id": "ea9aed84",
   "metadata": {},
   "source": [
    "#### 9)Write a python program to find and display the product of three positive integer values based on the rule mentioned below:\n"
   ]
  },
  {
   "cell_type": "code",
   "execution_count": 46,
   "id": "fb8568e2",
   "metadata": {
    "scrolled": true
   },
   "outputs": [
    {
     "name": "stdout",
     "output_type": "stream",
     "text": [
      "Enter a numbers seperated by commas: 1,5,7\n",
      "[1, 5, 7]\n",
      "Output: -1\n"
     ]
    }
   ],
   "source": [
    "l=[]\n",
    "num=input(\"Enter a numbers seperated by commas: \").split(\",\")\n",
    "for i in num:\n",
    "    l.append(int(i))\n",
    "print(l)\n",
    "\n",
    "try:\n",
    "    if 7 in l:\n",
    "        if l[0]==7:\n",
    "            prod=l[1]*l[2]\n",
    "            print(\"Output: {}\".format(prod))\n",
    "        elif l[1]==7:\n",
    "            print(\"Output: {}\".format(l[2]))\n",
    "        elif l[2]==7:\n",
    "            print(\"Output: {}\".format(-1))\n",
    "    else:\n",
    "        prod=1\n",
    "        for i in l:\n",
    "            prod=prod*i\n",
    "        print(\"Output: {}\".format(prod))\n",
    "except Exception as e:\n",
    "    print(e)\n",
    "    \n",
    "    "
   ]
  },
  {
   "cell_type": "markdown",
   "id": "ecd269f8",
   "metadata": {},
   "source": [
    "#### 10)You have x no. of 5 rupee coins and y no. of 1 rupee coins. You want to purchase an item for amount z. The shopkeeper wants you to provide exact change. You want to pay using minimum number of coins. How many 5 rupee coins and 1 rupee coins will you use? If exact change is not possible then display -1.\n"
   ]
  },
  {
   "cell_type": "code",
   "execution_count": 55,
   "id": "816eadeb",
   "metadata": {
    "scrolled": true
   },
   "outputs": [
    {
     "name": "stdout",
     "output_type": "stream",
     "text": [
      "Available 1rs coin: 3\n",
      "Available 5rs coin: 3\n",
      "how much amout shopkeeper want19\n",
      "The exact change is  not possible so we are displaying: -1\n"
     ]
    }
   ],
   "source": [
    "coin_1rs=int(input(\"Available 1rs coin: \"))\n",
    "coin_5rs=int(input(\"Available 5rs coin: \"))\n",
    "shopkeeper_amt=int(input(\"how much amout shopkeeper want\"))\n",
    "\n",
    "total_amt=coin_5rs*5+coin_1rs*1\n",
    "if total_amt>=shopkeeper_amt:\n",
    "    q=shopkeeper_amt//5\n",
    "    r=shopkeeper_amt%5\n",
    "    print(\"1rs coin needed: {}\".format(r))\n",
    "    print(\"5rs coin needed: {}\".format(q))\n",
    "else:\n",
    "    print(\"The exact change is  not possible so we are displaying: -1\")"
   ]
  },
  {
   "cell_type": "markdown",
   "id": "ea4a1de7",
   "metadata": {},
   "source": [
    "#### 11. Write a Python program to generate the next 15 leap years starting from a given year. Populate the leap years into a list and display the list.\n"
   ]
  },
  {
   "cell_type": "code",
   "execution_count": 24,
   "id": "f191e07d",
   "metadata": {},
   "outputs": [],
   "source": [
    "def find_leap_year15(starting_year):\n",
    "    count=0\n",
    "    leap_years=[]\n",
    "    while count<15:\n",
    "        if (starting_year%4==0 or starting_year%400==0 and starting_year%100==0):\n",
    "            leap_years.append(starting_year)\n",
    "            count=count+1\n",
    "        starting_year=starting_year+1\n",
    "    return \"The 15 leap years are: {}\".format(leap_years)\n",
    "            "
   ]
  },
  {
   "cell_type": "code",
   "execution_count": 25,
   "id": "4593c8b2",
   "metadata": {
    "scrolled": true
   },
   "outputs": [
    {
     "data": {
      "text/plain": [
       "'The 15 leap years are: [2024, 2028, 2032, 2036, 2040, 2044, 2048, 2052, 2056, 2060, 2064, 2068, 2072, 2076, 2080]'"
      ]
     },
     "execution_count": 25,
     "metadata": {},
     "output_type": "execute_result"
    }
   ],
   "source": [
    "find_leap_year15(2021)"
   ]
  },
  {
   "cell_type": "markdown",
   "id": "07bff0a7",
   "metadata": {},
   "source": [
    "#### 12. ARS Gems Store sells different varieties of gems to its customers.\n",
    "\n",
    "     Write a Python program to calculate the bill amount to be paid by a customer based on the       list of gems and quantity purchased. Any purchase with a total bill amount above Rs.30000 is     entitled to 5% discount. If any gem required by the customer is not available in the store,       then consider total bill amount to be -1.\n",
    "    Assume that quantity required by the customer for any gem will always be greater than 0.\n",
    "\n",
    "    Perform case-sensitive comparison wherever applicable.\n",
    "\n",
    "    gems_list=[\"Emerald\",\"Ivory\",\"Jasper\",\"Ruby\",\"Garnet\"]\n",
    "\n",
    "    #Price of gems available in the store. gems_list and price_list have one-to-one      correspondence\n",
    "    price_list=[1760,2119,1599,3920,3999]\n",
    "\n",
    "    #List of gems required by the customer\n",
    "    reqd_gems=[\"Ivory\",\"Emerald\",\"Garnet\"]\n",
    "\n",
    "    #Quantity of gems required by the customer. reqd_gems and reqd_quantity have one-to-one            correspondence\n",
    "    reqd_quantity=[3,10,12]\n"
   ]
  },
  {
   "cell_type": "code",
   "execution_count": 32,
   "id": "61ef37e0",
   "metadata": {},
   "outputs": [],
   "source": [
    "def bill_amount(shop_gems,gems_price,required_gems,qty_of_required_gems):\n",
    "    print(\"----------------Well come to the ARS Gems Store----------------\")\n",
    "    bill=0\n",
    "    for i in reqd_gems:\n",
    "        if i in gems_list:\n",
    "            bill=bill + price_list[gems_list.index(i)] * reqd_quantity[reqd_gems.index(i)]\n",
    "\n",
    "        else:\n",
    "            print(\" SORRY! This gem -->{}<----is not available in the shop\".format(i))\n",
    "            continue\n",
    "\n",
    "    if bill>=30000:\n",
    "        bill=bill-bill*0.05\n",
    "        print(\"Congrats! sir you got discount\")\n",
    "        print(\"Your total bill after discount= {}\".format(bill))\n",
    "    else:\n",
    "        print(\"Your total bill amount= {}\".format(bill))\n",
    "    \n",
    "    \n",
    " \n",
    "    \n",
    "    \n",
    "    \n",
    "    \n",
    "    \n",
    "    \n",
    "    "
   ]
  },
  {
   "cell_type": "code",
   "execution_count": 34,
   "id": "d30a4fcd",
   "metadata": {},
   "outputs": [
    {
     "name": "stdout",
     "output_type": "stream",
     "text": [
      "----------------Well come to the ARS Gems Store----------------\n",
      " SORRY! This gem -->panna<----is not available in the shop\n",
      "Congrats! sir you got discount\n",
      "Your total bill after discount= 68347.75\n"
     ]
    }
   ],
   "source": [
    "# *------------code testing---------------------------*\n",
    "\n",
    "gems_list=[\"Emerald\",\"Ivory\",\"Jasper\",\"Ruby\",\"Garnet\"]\n",
    "price_list=[1760,2119,1599,3920,3999]\n",
    "\n",
    "reqd_gems=[\"Ivory\",\"Emerald\",\"panna\",\"Garnet\"]\n",
    "reqd_quantity=[3,10,0,12]\n",
    "\n",
    "bill_amount(gems_list,price_list,reqd_gems,reqd_quantity)"
   ]
  },
  {
   "cell_type": "markdown",
   "id": "63bc545c",
   "metadata": {},
   "source": [
    " #### 13. Write a python function to check whether three given numbers can form the sides of a triangle.\n",
    "     Hint\n",
    "     : Three numbers can be the sides of a triangle if none of the numbers are greater than or         equal to the sum of the other two numbers.\n"
   ]
  },
  {
   "cell_type": "code",
   "execution_count": 59,
   "id": "1fbbfb0a",
   "metadata": {},
   "outputs": [],
   "source": [
    "def triangle_sides(s1,s2,s3):\n",
    "    if (s1<(s2+s3) and s2<(s1+s3) and s3<(s1+s2)):\n",
    "        print(\"All the three numbers can form the sides of triangle\")\n",
    "    else:\n",
    "        print(\"Oh! No numbers can form the sides of triangle\")\n",
    "                \n",
    "    "
   ]
  },
  {
   "cell_type": "code",
   "execution_count": 60,
   "id": "cfbf8aee",
   "metadata": {},
   "outputs": [
    {
     "name": "stdout",
     "output_type": "stream",
     "text": [
      "Oh! No numbers can form the sides of triangle\n"
     ]
    }
   ],
   "source": [
    "triangle_sides(3,2,5)"
   ]
  },
  {
   "cell_type": "code",
   "execution_count": 67,
   "id": "a4720d20",
   "metadata": {},
   "outputs": [
    {
     "name": "stdout",
     "output_type": "stream",
     "text": [
      "All the three numbers can form the sides of triangle\n"
     ]
    }
   ],
   "source": [
    "triangle_sides(2,4,5)"
   ]
  },
  {
   "cell_type": "markdown",
   "id": "ac40e13a",
   "metadata": {},
   "source": [
    "#### 14. Write a python program to solve a classic ancient Chinese puzzle.\n",
    "    We count 35 heads and 94 legs among the chickens and rabbits in a farm. How many rabbits and     how many chickens do we have?\n"
   ]
  },
  {
   "cell_type": "code",
   "execution_count": 88,
   "id": "1c0f2985",
   "metadata": {},
   "outputs": [],
   "source": [
    "# chicken and rabit both have ----->1 head\n",
    "# chicken--------------> 2 legs\n",
    "# rabbit --------------> 4 legs\n",
    "\n",
    "# https://brainly.in/question/10498755 reffer this for solution\n",
    "\n",
    "# no. of legs should be even because chicken and rabbbit has 4 and 2 legs i.e total 6 i.e even legs\n",
    "# so legs will always be an even quantity for rabbit and chicken.\n",
    "\n",
    "def chinese_puzzle(heads,legs):\n",
    "    if legs%2!=0 or heads>legs or heads==0 or legs==0:\n",
    "        print(\"NO SOLUTION\")\n",
    "    else:\n",
    "        rabbit=(legs-(2*heads))/2\n",
    "        chicken=heads-rabbit\n",
    "        print(\"The numbers of rabbit= {}\".format(rabbit))\n",
    "        print(\"The number of chicken= {}\".format(chicken))\n",
    "    \n",
    "    \n",
    "    "
   ]
  },
  {
   "cell_type": "code",
   "execution_count": 92,
   "id": "d91a4dc3",
   "metadata": {},
   "outputs": [
    {
     "name": "stdout",
     "output_type": "stream",
     "text": [
      "The numbers of rabbit= 50.0\n",
      "The number of chicken= 100.0\n"
     ]
    }
   ],
   "source": [
    "heads=150\n",
    "legs=400\n",
    "\n",
    "chinese_puzzle(heads,legs)"
   ]
  },
  {
   "cell_type": "code",
   "execution_count": 94,
   "id": "0dabd277",
   "metadata": {},
   "outputs": [
    {
     "name": "stdout",
     "output_type": "stream",
     "text": [
      "The numbers of rabbit= 12.0\n",
      "The number of chicken= 23.0\n"
     ]
    }
   ],
   "source": [
    "heads=35\n",
    "legs=94\n",
    "chinese_puzzle(heads,legs)"
   ]
  },
  {
   "cell_type": "code",
   "execution_count": 95,
   "id": "52335154",
   "metadata": {},
   "outputs": [
    {
     "name": "stdout",
     "output_type": "stream",
     "text": [
      "The numbers of rabbit= 3.0\n",
      "The number of chicken= 0.0\n"
     ]
    }
   ],
   "source": [
    "heads=3\n",
    "legs=12\n",
    "chinese_puzzle(heads,legs)"
   ]
  },
  {
   "cell_type": "code",
   "execution_count": 96,
   "id": "84dedec9",
   "metadata": {},
   "outputs": [
    {
     "name": "stdout",
     "output_type": "stream",
     "text": [
      "The numbers of rabbit= 0.0\n",
      "The number of chicken= 5.0\n"
     ]
    }
   ],
   "source": [
    "heads=5\n",
    "legs=10\n",
    "chinese_puzzle(heads,legs)"
   ]
  },
  {
   "cell_type": "code",
   "execution_count": 97,
   "id": "f8b4d683",
   "metadata": {},
   "outputs": [
    {
     "name": "stdout",
     "output_type": "stream",
     "text": [
      "NO SOLUTION\n"
     ]
    }
   ],
   "source": [
    "heads=3\n",
    "legs=11\n",
    "chinese_puzzle(heads,legs)"
   ]
  },
  {
   "cell_type": "markdown",
   "id": "45373e3f",
   "metadata": {},
   "source": [
    "#### 15. Write a python program which finds the maximum number from num1 to num2 (num2 inclusive) based on the following rules.\n",
    "\n",
    "    1) Always num1 should be less than num2\n",
    "    2)Consider each number from num1 to num2 (num2 inclusive). Populate the number into a list,       if the below conditions are satisfied\n",
    "     a)Sum of the digits of the number is a multiple of 3\n",
    "     b)Number has only two digits\n",
    "     c)Number is a multiple of 5\n",
    "     d)Display the maximum element from the list\n",
    "\n"
   ]
  },
  {
   "cell_type": "code",
   "execution_count": 112,
   "id": "9c81fe6c",
   "metadata": {},
   "outputs": [],
   "source": [
    "def maximum_num(starting_num,ending_num):\n",
    "    \n",
    "    l=[]    \n",
    "    for i in range(starting_num,ending_num+1):\n",
    "        count=0\n",
    "        add=0\n",
    "        for j in str(i):\n",
    "            count=count+1\n",
    "            add=add+int(j)\n",
    "        if count==2 and i%5==0 and add%3==0:\n",
    "            l.append(i)\n",
    "    print(\"The list of numbers based on given condition={}\".format(l))\n",
    "    # finding the maximum out of list element.\n",
    "    return \"The maximum number out of list-> {}\".format(max(l))\n",
    "    \n",
    "            \n",
    "        \n",
    "            \n",
    "        \n",
    "        \n",
    "            \n",
    "        \n",
    "        \n",
    "    "
   ]
  },
  {
   "cell_type": "code",
   "execution_count": 115,
   "id": "80f704b9",
   "metadata": {},
   "outputs": [
    {
     "name": "stdout",
     "output_type": "stream",
     "text": [
      "The list of numbers based on given condition=[15, 30, 45, 60, 75]\n"
     ]
    },
    {
     "data": {
      "text/plain": [
       "'The maximum number out of list-> 75'"
      ]
     },
     "execution_count": 115,
     "metadata": {},
     "output_type": "execute_result"
    }
   ],
   "source": [
    "maximum_num(10,80)"
   ]
  },
  {
   "cell_type": "markdown",
   "id": "236f85cd",
   "metadata": {},
   "source": [
    "#### 16. Write a python program to generate the ticket numbers for specified number of passengers traveling in a flight as per the details mentioned below:\n",
    "     The ticket number should be generated as airline:src:dest:number\n",
    "     where\n",
    "     1) Consider AI as the value for airline\n",
    "     2) src and dest should be the first three characters of the source and destination cities.\n",
    "     3) number should be auto-generated starting from 101\n",
    "     The program should return the list of ticket numbers of last five passengers.\n",
    "    Note: If passenger count is less than 5, return the list of all generated ticket numbers.\n",
    "\n",
    "\n"
   ]
  },
  {
   "cell_type": "code",
   "execution_count": 109,
   "id": "fb819479",
   "metadata": {},
   "outputs": [],
   "source": [
    "def airline_ticket_channel(airline,source,destination,number_of_passengers):\n",
    "    tickets=[]\n",
    "    source=source[0:3]\n",
    "    destination=destination[0:3]\n",
    "    for i in range(101,101+number_of_passengers):\n",
    "        tkt=str(airline)+\":\"+str(source)+\":\"+str(destination)+\":\"+str(i)\n",
    "        tickets.append(tkt)\n",
    "    if number_of_passengers>5:\n",
    "        print(tickets[-5:])\n",
    "    else:\n",
    "        print(tickets[0:number_of_passengers])\n",
    " "
   ]
  },
  {
   "cell_type": "code",
   "execution_count": 130,
   "id": "635ad10e",
   "metadata": {},
   "outputs": [
    {
     "name": "stdout",
     "output_type": "stream",
     "text": [
      "['AI:Ban:Lon:106', 'AI:Ban:Lon:107', 'AI:Ban:Lon:108', 'AI:Ban:Lon:109', 'AI:Ban:Lon:110']\n"
     ]
    }
   ],
   "source": [
    "airline_ticket_channel(\"AI\",\"Banglour\",\"London\",10)"
   ]
  },
  {
   "cell_type": "code",
   "execution_count": 131,
   "id": "1245952d",
   "metadata": {},
   "outputs": [
    {
     "name": "stdout",
     "output_type": "stream",
     "text": [
      "['BA:Aus:Fra:101', 'BA:Aus:Fra:102']\n"
     ]
    }
   ],
   "source": [
    "airline_ticket_channel(\"BA\",\"Australia\",\"France\",2)"
   ]
  },
  {
   "cell_type": "markdown",
   "id": "bd0f925c",
   "metadata": {},
   "source": [
    "#### 17. Represent a small bilingual (English-Swedish) glossary given below as a Python dictionary\n",
    "\n",
    "{\"merry\":\"god\", \"christmas\":\"jul\", \"and\":\"och\", \"happy\":\"gott\", \"new\":\"nytt\", \"year\":\"ar\"} \n",
    "\n",
    "and use it to translate your Christmas wishes from English into Swedish.\n",
    "\n",
    "That is, write a python function translate() that accepts the bilingual dictionary and a list of English words (your Christmas wish) and returns a list of equivalent Swedish words.\n"
   ]
  },
  {
   "cell_type": "code",
   "execution_count": 151,
   "id": "4054aa20",
   "metadata": {},
   "outputs": [],
   "source": [
    "def translate(dic,eng_list):\n",
    "    swedish_translate=[]\n",
    "    for i in eng_list:\n",
    "        if i in dic:\n",
    "            swedish_translate.append(dic[i])\n",
    "        else:\n",
    "            print(\"This word {} is not in dictionary\".format(i))\n",
    "            \n",
    "    return swedish_translate\n",
    "        "
   ]
  },
  {
   "cell_type": "code",
   "execution_count": 152,
   "id": "af186306",
   "metadata": {},
   "outputs": [
    {
     "data": {
      "text/plain": [
       "['du', 'jul', 'önskar']"
      ]
     },
     "execution_count": 152,
     "metadata": {},
     "output_type": "execute_result"
    }
   ],
   "source": [
    "d={\"merry\":\"god\", \"christmas\":\"jul\", \"and\":\"och\", \"happy\":\"gott\", \"new\":\"nytt\", \"year\":\"ar\",\"your\":\"du\",\"wish\":\"önskar\"}\n",
    "l=[\"your\",\"christmas\",\"wish\"]\n",
    "translate(d,l)"
   ]
  },
  {
   "cell_type": "markdown",
   "id": "98516d71",
   "metadata": {},
   "source": [
    "#### 18. The road transport corporation (RTC) of a city wants to know whether a particular bus-route is running on profit or loss.\n",
    "\n",
    "     Assume that the following information are given:\n",
    "     Price per litre of fuel = 70\n",
    "     Mileage of the bus in km/litre of fuel = 10\n",
    "     Price(Rs) per ticket = 80\n",
    "\n",
    "    The bus runs on multiple routes having different distance in kms and number of passengers.\n",
    "    Write a function to calculate and return the profit earned (Rs) in each route. Return -1 in       case of loss.\n"
   ]
  },
  {
   "cell_type": "code",
   "execution_count": 5,
   "id": "20bc3108",
   "metadata": {},
   "outputs": [],
   "source": [
    "def transport(total_distance_covered,num_of_passenger):\n",
    "    fuel_price_per_ltr=70\n",
    "    vehicle_milage=10\n",
    "    price_per_ticket=80\n",
    "    \n",
    "    total_fuel_consume=total_distance_covered/vehicle_milage\n",
    "    \n",
    "    total_fuel_price_use_byvehicle= total_fuel_consume*fuel_price_per_ltr\n",
    "    total_earning_on_passenger= num_of_passenger*price_per_ticket\n",
    "    \n",
    "    if total_earning_on_passenger > total_fuel_price_use_byvehicle:\n",
    "        profit=total_earning_on_passenger-total_fuel_price_use_byvehicle\n",
    "        print(\"RTC got the profit😃 of Rs: {}\".format(profit))\n",
    "    else:\n",
    "        print(\"RTC is in loss😮: {}\".format(-1))\n",
    "    \n",
    "    \n",
    "    \n",
    "    \n",
    "    \n",
    "    "
   ]
  },
  {
   "cell_type": "code",
   "execution_count": 8,
   "id": "5903b3a4",
   "metadata": {},
   "outputs": [
    {
     "name": "stdout",
     "output_type": "stream",
     "text": [
      "RTC is in loss😮: -1\n"
     ]
    }
   ],
   "source": [
    "transport(550,10)"
   ]
  },
  {
   "cell_type": "markdown",
   "id": "b8d78aad",
   "metadata": {},
   "source": [
    "#### 19. Given a string containing uppercase characters (A-Z), compress the string using Run Length encoding. Repetition of character has to be replaced by storing the length of that run.\n",
    "\n",
    "Write a python function which performs the run length encoding for a given String and returns the run length encoded String.\n",
    "\n",
    "Provide different String values and test your program.\n"
   ]
  },
  {
   "cell_type": "code",
   "execution_count": 23,
   "id": "39d97e5f",
   "metadata": {},
   "outputs": [],
   "source": [
    "def encode(message):\n",
    "    encoded_message = \"\"\n",
    "    i = 0\n",
    " \n",
    "    while (i <= len(message)-1):\n",
    "        count = 1\n",
    "        ch = message[i]\n",
    "        j = i\n",
    "        while (j < len(message)-1):\n",
    "            if (message[j] == message[j+1]):\n",
    "                count = count+1\n",
    "                j = j+1\n",
    "            else:\n",
    "                break\n",
    "        encoded_message=encoded_message+str(count)+ch\n",
    "        i = j+1\n",
    "    return encoded_message"
   ]
  },
  {
   "cell_type": "code",
   "execution_count": 24,
   "id": "aba9363a",
   "metadata": {},
   "outputs": [
    {
     "data": {
      "text/plain": [
       "'2A1B2C1A'"
      ]
     },
     "execution_count": 24,
     "metadata": {},
     "output_type": "execute_result"
    }
   ],
   "source": [
    "encode(\"AABCCA\")"
   ]
  },
  {
   "cell_type": "code",
   "execution_count": 5,
   "id": "a236ebff",
   "metadata": {},
   "outputs": [
    {
     "data": {
      "text/plain": [
       "'1A1B2C1A'"
      ]
     },
     "execution_count": 5,
     "metadata": {},
     "output_type": "execute_result"
    }
   ],
   "source": [
    "encode(\"ABCCA\")"
   ]
  },
  {
   "cell_type": "code",
   "execution_count": 6,
   "id": "4024a6a6",
   "metadata": {},
   "outputs": [
    {
     "data": {
      "text/plain": [
       "'4A4B8C'"
      ]
     },
     "execution_count": 6,
     "metadata": {},
     "output_type": "execute_result"
    }
   ],
   "source": [
    "encode(\"AAAABBBBCCCCCCCC\")"
   ]
  },
  {
   "cell_type": "markdown",
   "id": "f3a3aecf",
   "metadata": {},
   "source": [
    "#### 20. Write a function, check_palindrome() to check whether the given string is a palindrome or not. The function should return true if it is a palindrome else it should return false.\n",
    "\n",
    "Note: Initialize the string with various values and test your program. Assume that all the letters in the given string are all of the same case. Example: MAN, civic, WOW etc. \n"
   ]
  },
  {
   "cell_type": "code",
   "execution_count": 43,
   "id": "b12f8493",
   "metadata": {},
   "outputs": [],
   "source": [
    "def check_palindrome(message):\n",
    "    rev=message[-1::-1]\n",
    "    if message==rev:\n",
    "        print(\"TRUE! the string -->{} is palindrom\".format(message))\n",
    "    else:\n",
    "        print(\"FALSE! the string --->{} is  NOT a palindrom\".format(message))\n",
    "    "
   ]
  },
  {
   "cell_type": "code",
   "execution_count": 44,
   "id": "f0f5d853",
   "metadata": {},
   "outputs": [
    {
     "name": "stdout",
     "output_type": "stream",
     "text": [
      "FALSE! the string --->MAN is  NOT a palindrom\n"
     ]
    }
   ],
   "source": [
    "check_palindrome(\"MAN\")"
   ]
  },
  {
   "cell_type": "code",
   "execution_count": 45,
   "id": "eafc547a",
   "metadata": {},
   "outputs": [
    {
     "name": "stdout",
     "output_type": "stream",
     "text": [
      "TRUE! the string -->civic is palindrom\n"
     ]
    }
   ],
   "source": [
    "check_palindrome(\"civic\")"
   ]
  },
  {
   "cell_type": "code",
   "execution_count": 46,
   "id": "9920f9ce",
   "metadata": {},
   "outputs": [
    {
     "name": "stdout",
     "output_type": "stream",
     "text": [
      "TRUE! the string -->WOW is palindrom\n"
     ]
    }
   ],
   "source": [
    "check_palindrome(\"WOW\")"
   ]
  },
  {
   "cell_type": "code",
   "execution_count": 47,
   "id": "e857e700",
   "metadata": {},
   "outputs": [
    {
     "name": "stdout",
     "output_type": "stream",
     "text": [
      "FALSE! the string --->abcd is  NOT a palindrom\n"
     ]
    }
   ],
   "source": [
    "check_palindrome(\"abcd\")"
   ]
  },
  {
   "cell_type": "markdown",
   "id": "b0fdb598",
   "metadata": {},
   "source": [
    "#### 21. Care hospital wants to know the medical speciality visited by the maximum number of patients. Assume that the patient id of the patient along with the medical speciality visited by the patient is stored in a list. The details of the medical specialities are stored in a dictionary as follows:\n",
    "{\n",
    "\"P\":\"Pediatrics\",\n",
    "\"O\":\"Orthopedics\",\n",
    "\"E\":\"ENT\n",
    "}\n",
    " \n",
    "Write a function to find the medical speciality visited by the maximum number of patients and return the name of the speciality.\n",
    " \n",
    "Note:\n",
    "1)Assume that there is always only one medical speciality which is visited by maximum number of patients.\n",
    "2)Perform case sensitive string comparison wherever necessary.\n"
   ]
  },
  {
   "cell_type": "markdown",
   "id": "39552872",
   "metadata": {},
   "source": [
    "## Method 1: Normal approch"
   ]
  },
  {
   "cell_type": "code",
   "execution_count": 139,
   "id": "916ac65d",
   "metadata": {},
   "outputs": [],
   "source": [
    "def medical_speciality_maximum(lst_of_patient_with_id):\n",
    "    medical_speciality={ \"P\":\"Pediatrics\", \"O\":\"Orthopedics\", \"E\":\"ENT\" }\n",
    "    allchar=[]\n",
    "    for i in lst_of_patient_with_id:\n",
    "        if type(i)==str:\n",
    "            allchar.append(i)\n",
    "    print(allchar)\n",
    "    \n",
    "    single_char=[]\n",
    "    for c in allchar:\n",
    "        if c not in single_char:\n",
    "            single_char.append(c)\n",
    "    print(single_char)\n",
    "\n",
    "    chr_count=[]\n",
    "    for j in single_char:\n",
    "        count=allchar.count(j)\n",
    "        chr_count.append(count)\n",
    "    print(chr_count)\n",
    "\n",
    "    maximum_index=chr_count.index(max(chr_count))\n",
    "    maximum_speciality_visited=medical_speciality[single_char[maximum_index]]\n",
    "    return(\"The maximum speciality visited by patients is: {}\".format(maximum_speciality_visited))\n",
    "\n",
    "    "
   ]
  },
  {
   "cell_type": "code",
   "execution_count": 140,
   "id": "27c8fd31",
   "metadata": {},
   "outputs": [
    {
     "name": "stdout",
     "output_type": "stream",
     "text": [
      "['P', 'O', 'P', 'P']\n",
      "['P', 'O']\n",
      "[3, 1]\n"
     ]
    },
    {
     "data": {
      "text/plain": [
       "'The maximum speciality visited by patients is: Pediatrics'"
      ]
     },
     "execution_count": 140,
     "metadata": {},
     "output_type": "execute_result"
    }
   ],
   "source": [
    "l1=[101,\"P\",102,\"O\",302,\"P\",305,\"P\"]\n",
    "medical_speciality_maximum(l)"
   ]
  },
  {
   "cell_type": "code",
   "execution_count": 141,
   "id": "bb012518",
   "metadata": {},
   "outputs": [
    {
     "name": "stdout",
     "output_type": "stream",
     "text": [
      "['O', 'E', 'P', 'P', 'E', 'O', 'E']\n",
      "['O', 'E', 'P']\n",
      "[2, 3, 2]\n"
     ]
    },
    {
     "data": {
      "text/plain": [
       "'The maximum speciality visited by patients is: ENT'"
      ]
     },
     "execution_count": 141,
     "metadata": {},
     "output_type": "execute_result"
    }
   ],
   "source": [
    "l2=[101,\"O\",102,\"E\",302,\"P\",305,\"P\",401,\"E\",656,\"O\",987,\"E\"]\n",
    "medical_speciality_maximum(l2)"
   ]
  },
  {
   "cell_type": "code",
   "execution_count": 143,
   "id": "f89e0101",
   "metadata": {},
   "outputs": [
    {
     "name": "stdout",
     "output_type": "stream",
     "text": [
      "['O', 'O', 'P', 'E', 'O', 'O']\n",
      "['O', 'P', 'E']\n",
      "[4, 1, 1]\n"
     ]
    },
    {
     "data": {
      "text/plain": [
       "'The maximum speciality visited by patients is: Orthopedics'"
      ]
     },
     "execution_count": 143,
     "metadata": {},
     "output_type": "execute_result"
    }
   ],
   "source": [
    "l3=[101,\"O\",102,\"O\",302,\"P\",305,\"E\",401,\"O\",656,\"O\"]\n",
    "medical_speciality_maximum(l3)"
   ]
  },
  {
   "cell_type": "markdown",
   "id": "2b03df64",
   "metadata": {},
   "source": [
    "## Method 2: Better Approach:"
   ]
  },
  {
   "cell_type": "code",
   "execution_count": 157,
   "id": "126e4894",
   "metadata": {},
   "outputs": [],
   "source": [
    "def medical_speciality(list_of_patient_with_speciality):\n",
    "    medical_speciality={ \"P\":\"Pediatrics\", \"O\":\"Orthopedics\", \"E\":\"ENT\" }\n",
    "  #<------converting the all the character and their count in a list.-------->#\n",
    "    d={}\n",
    "    for i in list_of_patient_with_speciality:\n",
    "         if type(i)==str:\n",
    "                d[i]=list_of_patient_with_speciality.count(i)\n",
    "    print(d)\n",
    " #<------finding the maximum out of dictionary and -->then finding key out of it--------------->#\n",
    "    key_max=max(zip(d.values(),d.keys()))[1]\n",
    "    return(\"The maximum speciality visited by patients is:--> {}\".format(medical_speciality[key_max]))\n",
    "\n",
    "\n",
    "\n",
    "\n",
    "\n",
    "   \n",
    "  \n",
    "\n",
    "\n",
    "\n"
   ]
  },
  {
   "cell_type": "code",
   "execution_count": 158,
   "id": "65f2da7a",
   "metadata": {},
   "outputs": [
    {
     "name": "stdout",
     "output_type": "stream",
     "text": [
      "{'P': 3, 'O': 1}\n"
     ]
    },
    {
     "data": {
      "text/plain": [
       "'The maximum speciality visited by patients is:--> Pediatrics'"
      ]
     },
     "execution_count": 158,
     "metadata": {},
     "output_type": "execute_result"
    }
   ],
   "source": [
    "l=[101,\"P\",102,\"O\",302,\"P\",305,\"P\"]\n",
    "medical_speciality(l)"
   ]
  },
  {
   "cell_type": "code",
   "execution_count": 155,
   "id": "f3e42d28",
   "metadata": {},
   "outputs": [
    {
     "name": "stdout",
     "output_type": "stream",
     "text": [
      "{'O': 4, 'P': 1, 'E': 1}\n"
     ]
    },
    {
     "data": {
      "text/plain": [
       "'The maximum speciality visited by patients is:--> Orthopedics'"
      ]
     },
     "execution_count": 155,
     "metadata": {},
     "output_type": "execute_result"
    }
   ],
   "source": [
    "l1=[101,\"O\",102,\"O\",302,\"P\",305,\"E\",401,\"O\",656,\"O\"]\n",
    "medical_speciality(l1)"
   ]
  },
  {
   "cell_type": "code",
   "execution_count": 156,
   "id": "46039241",
   "metadata": {},
   "outputs": [
    {
     "name": "stdout",
     "output_type": "stream",
     "text": [
      "{'O': 2, 'E': 3, 'P': 2}\n"
     ]
    },
    {
     "data": {
      "text/plain": [
       "'The maximum speciality visited by patients is:--> ENT'"
      ]
     },
     "execution_count": 156,
     "metadata": {},
     "output_type": "execute_result"
    }
   ],
   "source": [
    "l2=[101,\"O\",102,\"E\",302,\"P\",305,\"P\",401,\"E\",656,\"O\",987,\"E\"]\n",
    "medical_speciality(l2)"
   ]
  },
  {
   "cell_type": "markdown",
   "id": "d4bed11f",
   "metadata": {},
   "source": [
    "#### \\*\\*\\*\\*\\*\\*\\*\\*\\*\\*\\*\\*\\*\\*Python code to find the maximum out of dictionary\\*\\*\\*\\*\\*\\*\\*\\*\\*\\*\\*\\*\\*\\*\\*\\*:"
   ]
  },
  {
   "cell_type": "code",
   "execution_count": 108,
   "id": "057eb951",
   "metadata": {},
   "outputs": [
    {
     "name": "stdout",
     "output_type": "stream",
     "text": [
      "GameOfThrones\n"
     ]
    }
   ],
   "source": [
    "\n",
    "\n",
    "# Python code to find key with Maximum value in Dictionary\n",
    "  \n",
    "# Dictionary Initialization\n",
    "Tv = {'BreakingBad':100, 'GameOfThrones':1292, 'TMKUC' : 88}\n",
    " \n",
    "Keymax = max(zip(Tv.values(), Tv.keys()))[1]\n",
    "print(Keymax)"
   ]
  },
  {
   "cell_type": "code",
   "execution_count": null,
   "id": "cabc7b5a",
   "metadata": {},
   "outputs": [],
   "source": []
  }
 ],
 "metadata": {
  "kernelspec": {
   "display_name": "Python 3 (ipykernel)",
   "language": "python",
   "name": "python3"
  },
  "language_info": {
   "codemirror_mode": {
    "name": "ipython",
    "version": 3
   },
   "file_extension": ".py",
   "mimetype": "text/x-python",
   "name": "python",
   "nbconvert_exporter": "python",
   "pygments_lexer": "ipython3",
   "version": "3.9.7"
  }
 },
 "nbformat": 4,
 "nbformat_minor": 5
}
